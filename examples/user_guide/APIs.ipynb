{
 "cells": [
  {
   "cell_type": "markdown",
   "metadata": {},
   "source": [
    "Panel is designed to give you all the flexibility you need to prototype an app or dashboard quickly and then iterate and refine it over time. Depending on your goals Panel provides several APIs that make each stage in this process as simple as possible. As a quick overview the four different APIs can be summarized as follows:\n",
    "\n",
    "* **Interact functions**: Auto-generates a full UI (including widgets) given a function\n",
    "* **Reactive functions**: Generates an reactively updating view by declaring the inputs using the ``pn.depends`` decorator\n",
    "* **Parameterized class**: Generates declarative from a Parameterized class definition \n",
    "* **Callbacks**: Generate a UI by manually declaring callbacks and updating the layouts and/or views\n",
    "\n",
    "Each of these has its own benefits and drawbacks so this section will go through each one in turn, while working through an example app and point out the benefits and drawback along the way. For a quick overview you can also review the API gallery examples, e.g. the [stocks_hvplot](../gallery/apis/stocks_hvplot.ipynb) app.\n",
    "\n",
    "To start with let us define some imports, load the autompg dataset and define a plotting function we will be reusing throughout this user guide."
   ]
  },
  {
   "cell_type": "code",
   "execution_count": null,
   "metadata": {},
   "outputs": [],
   "source": [
    "import panel as pn\n",
    "import hvplot.pandas\n",
    "from bokeh.sampledata.autompg import autompg\n",
    "\n",
    "def autompg_plot(x, y, color):\n",
    "    return autompg.hvplot.scatter(x, y, c=color, padding=0.1)\n",
    "\n",
    "columns = list(autompg.columns[:-2])\n",
    "\n",
    "pn.extension()"
   ]
  },
  {
   "cell_type": "markdown",
   "metadata": {},
   "source": [
    "## Interact Functions\n",
    "\n",
    "The ``interact`` function will automatically generate a UI including widgets by inspecting the arguments of the function given to it or by providing additional hints in the ``interact`` function call. If you have worked with the [``ipywidgets``](https://github.com/jupyter-widgets/ipywidgets) package you may already be familiar with this approach (in fact the implementation is modeled on that reference implementation). The basic idea is that given a function which returns some object, Panel will inspect the arguments to that function, try to infer appropriate widgets for those arguments and then reevaluate and update the output whenever one of the widgets generate an event. For more detail on how interact generates widgets and other ways of using it see the [interact user guide](./interact.ipynb), this section instead focuses on when to use this API and its benefits and drawbacks.\n",
    "\n",
    "The main benefit of this approach is the ease of use, you start by writing some function that returns an object, be that a plot, a dataframe or anything else that Panel can render an you immediately get an interactive UI. Unlike ipywidgets the ``pn.interact`` will also return a panel, which can be further modified by laying out the widgets and output separately. This means interact can be flexibly used to generate complex GUIs. \n",
    "\n",
    "#### Pros:\n",
    "\n",
    "+ Easy to use\n",
    "+ Doesn't require modifying existing code\n",
    "\n",
    "#### Cons:\n",
    "\n",
    "- Very implicit behavior\n",
    "- Generating custom layouts requires indexing the individual components\n",
    "\n",
    "In the example below ``pn.interact`` infers the widget type for the ``x`` argument from the type (a list) and we define explicit widgets for the ``y`` and ``color`` parameters. Next we can inspect the ``Column`` panel returned by the function (using ``.pprint()``)  and then lay it out in the way we want by indexing into the layout."
   ]
  },
  {
   "cell_type": "code",
   "execution_count": null,
   "metadata": {},
   "outputs": [],
   "source": [
    "y = pn.widgets.Select(value='hp', options=columns, name='y')\n",
    "color = pn.widgets.ColorPicker(name='Color', value='#4f4fdf')\n",
    "\n",
    "layout = pn.interact(autompg_plot, x=columns, y=y, color=color)\n",
    "\n",
    "layout.pprint()\n",
    "\n",
    "pn.Row(pn.Column('## MPG Explorer', layout[0]), layout[1])"
   ]
  },
  {
   "cell_type": "markdown",
   "metadata": {},
   "source": [
    "## Reactive Functions\n",
    "\n",
    "The reactive programming API is very similar to the ``interact`` function but makes it possible to explicitly declare the inputs to the function using the ``depends`` decorator and also makes the layout of the different components more explicit. The ``pn.depends`` decorator is a powerful way to declare the parameters a function depends on, by decorating a function with it we declare that when those parameters change the function should be called with the current values of those parameters. This makes it very explicitly which parameters the function depends on and ties that directly to some objects. Once a function has been annotated in this way it can be layed out alongside the widgets.\n",
    "\n",
    "#### Pros:\n",
    "\n",
    "+ Very clear mapping from the inputs to the arguments of the function\n",
    "+ The layout of the different components is very explicit\n",
    "\n",
    "#### Cons:\n",
    "\n",
    "- Mixes the definition of the function with the GUI elements it depends on\n",
    "\n",
    "In this model we declare all the widgets or inputs to the function first then declare the function decorated with ``pn.depends`` decorator and finally lay out the widgets and the ``autompg_plot`` function very explicitly."
   ]
  },
  {
   "cell_type": "code",
   "execution_count": null,
   "metadata": {},
   "outputs": [],
   "source": [
    "x = pn.widgets.Select(value='mpg', options=columns, name='x')\n",
    "y = pn.widgets.Select(value='hp', options=columns, name='y')\n",
    "color = pn.widgets.ColorPicker(name='Color', value='#4f4fdf')\n",
    "\n",
    "@pn.depends(x.param.value, y.param.value, color.param.value)\n",
    "def autompg_plot(x, y, color):\n",
    "    return autompg.hvplot.scatter(x, y, c=color)\n",
    "\n",
    "pn.Row(\n",
    "    pn.Column('## Auto MPG Explorer', x, y, color),\n",
    "    autompg_plot\n",
    ")"
   ]
  },
  {
   "cell_type": "markdown",
   "metadata": {},
   "source": [
    "## Parameterized Classes\n",
    "\n",
    "The param library allows expressing the parameters of some class completely independently of a GUI implementation. Panel and other libraries can then take those parameter declarations and turn them into a GUI which controls the parameters. This allows expressing the parameters or inputs to some computation and thanks to the ``param.depends`` decorator it is then possible to directly express the dependencies between the parameters and the computation defined in some method on the class.\n",
    "\n",
    "This is a powerful way to encapsulate some computation in a single or multiple self-contained classes taking advantage of object-oriented programming patterns. Additionally it makes it possible to express a problem completely independently from Panel or any other GUI code and then get a GUI for free as a last step. For more detail on using this approach see the [Param user guide](./Parameters.ipynb).\n",
    "\n",
    "Pros:\n",
    "\n",
    "+ Declarative way of declaring dependency between parameters and computation\n",
    "+ The code is not tied to any particular GUI framework\n",
    "\n",
    "Cons:\n",
    "\n",
    "- Requires writing classes\n",
    "\n",
    "In this model we declare a subclass of ``param.Parameterized`` declare the parameters we want at the class level, make an instance of the class  and finally lay out the parameters and plot method of the class."
   ]
  },
  {
   "cell_type": "code",
   "execution_count": null,
   "metadata": {},
   "outputs": [],
   "source": [
    "import param\n",
    "\n",
    "class MPGExplorer(param.Parameterized):\n",
    "    \n",
    "    x = param.Selector(objects=columns)\n",
    "    \n",
    "    y = param.Selector(default='hp', objects=columns)\n",
    "    \n",
    "    color = param.Color(default='#0f0f0f')\n",
    "    \n",
    "    @param.depends('x', 'y', 'color')\n",
    "    def plot(self):\n",
    "        return autompg_plot(self.x, self.y, self.color)\n",
    "\n",
    "explorer = MPGExplorer()\n",
    "\n",
    "pn.Row(explorer.param, explorer.plot)"
   ]
  },
  {
   "cell_type": "markdown",
   "metadata": {},
   "source": [
    "## Callbacks\n",
    "\n",
    "The callback API in panel is the lowest level approach, which affords the greatest amount of flexibility but also quickly grows in complexity as more interactivity and therefore callbacks have to be added. Nonetheless it is an important approach to know about and can often be used to complement the other approaches, e.g. if one specific callback is needed in addition to the more reactive approaches the other APIs provide, or if each parameter should trigger very distinct changes in the output.\n",
    "\n",
    "For more details on defining callbacks see the [Links user guide](./Links.ipynb).\n",
    "\n",
    "#### Pros:\n",
    "\n",
    "+ Complete and modular control over specific events\n",
    "\n",
    "#### Cons:\n",
    "\n",
    "- Complexity grows very quickly with the number of callbacks\n",
    "- Have to handle initializing the plots separately\n",
    "\n",
    "In this approach we once again define the widgets, unlike in other approaches we then have to define the actual layout, to ensure that the callback  we define has something that it can update or replace. In this case we use a single callback to update the plot but in many cases multiple callbacks might be required to make some change."
   ]
  },
  {
   "cell_type": "code",
   "execution_count": null,
   "metadata": {},
   "outputs": [],
   "source": [
    "x = pn.widgets.Select(value='mpg', options=columns, name='x')\n",
    "y = pn.widgets.Select(value='hp', options=columns, name='y')\n",
    "color = pn.widgets.ColorPicker(name='Color', value='#4f4fdf')\n",
    "\n",
    "layout = pn.Row(\n",
    "    pn.Column('## Auto MPG Explorer', x, y, color),\n",
    "    autompg_plot(x.value, y.value, color.value)\n",
    ")\n",
    "\n",
    "def update(event):\n",
    "    layout[1].object = autompg_plot(x.value, y.value, color.value)\n",
    "\n",
    "x.param.watch(update, 'value')\n",
    "y.param.watch(update, 'value')\n",
    "color.param.watch(update, 'value')\n",
    "\n",
    "layout"
   ]
  },
  {
   "cell_type": "markdown",
   "metadata": {},
   "source": [
    "## Summary\n",
    "\n",
    "As we have seen each of these four APIs allows building the same basic application. The choice of the appropriate API depends very much on the use case. To build a quick throwaway GUI the ``interact`` approach can be completely sufficient. To make that approach more explicit defining a reactive function is usually more maintainable. When writing some library code that might be used independently of the actual GUI a Parameterized class can be a great way to organize the code. Finally, if you need low-level control or want to complement any of the other approaches defining explicit callbacks can be the best approach. Choosing the API is therefore a matter of considering the tradeoffs and of course also a matter of preference."
   ]
  }
 ],
 "metadata": {
  "language_info": {
   "name": "python",
   "pygments_lexer": "ipython3"
  }
 },
 "nbformat": 4,
 "nbformat_minor": 2
}
