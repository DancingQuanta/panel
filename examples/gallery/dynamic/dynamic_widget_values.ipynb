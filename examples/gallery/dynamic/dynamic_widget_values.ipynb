{
 "cells": [
  {
   "cell_type": "code",
   "execution_count": null,
   "metadata": {},
   "outputs": [],
   "source": [
    "import panel as pn\n",
    "\n",
    "pn.extension()"
   ]
  },
  {
   "cell_type": "code",
   "execution_count": null,
   "metadata": {},
   "outputs": [],
   "source": [
    "title_widget = pn.widgets.TextInput(value='LABEL TEXT')\n",
    "value_widget = pn.widgets.IntSlider(start=0, end=10, value=5)\n",
    "\n",
    "meta_widgets = pn.WidgetBox(\n",
    "    '#### This controls labels',\n",
    "    title_widget,\n",
    "    '#### This controls values',\n",
    "    value_widget,\n",
    ")\n",
    "\n",
    "widgets = pn.WidgetBox(\n",
    "    pn.widgets.TextInput(),\n",
    "    pn.widgets.IntSlider(),\n",
    "    pn.widgets.FloatSlider(),\n",
    ")\n",
    "\n",
    "def update_titles(event):\n",
    "    for w in widgets:\n",
    "        w.name = '%s %s' % (w.__class__.__name__, event.new)\n",
    "\n",
    "title_widget.param.watch(update_titles, 'value')\n",
    "title_widget.param.trigger('value')\n",
    "\n",
    "def update_values(event):\n",
    "    for w in widgets:\n",
    "        if hasattr(w, 'end'):\n",
    "            w.value = event.new\n",
    "            w.end = event.new\n",
    "\n",
    "value_widget.param.watch(update_values, 'value')\n",
    "\n",
    "\n",
    "pn.Row(meta_widgets, widgets)"
   ]
  }
 ],
 "metadata": {
  "language_info": {
   "name": "python",
   "pygments_lexer": "ipython3"
  }
 },
 "nbformat": 4,
 "nbformat_minor": 2
}
