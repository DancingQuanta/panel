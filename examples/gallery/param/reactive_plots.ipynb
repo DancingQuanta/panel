{
 "cells": [
  {
   "cell_type": "markdown",
   "metadata": {},
   "source": [
    "The [iris dataset](https://en.wikipedia.org/wiki/Iris_flower_data_set) is a standard example used to illustrate machine-learning and visualization techniques. Here, we show how to use [panel](http://panel.pyviz.org) to create a dashboard for visualizing the dataset. The `Panel` dashboard uses [hvplot](http://hvplot.pyviz.org) to create plots and [param](https://param.pyviz.org) objects to create options for selecting `X` and `Y` axis for the plot. First, let's import the packages we are using:"
   ]
  },
  {
   "cell_type": "code",
   "execution_count": null,
   "metadata": {},
   "outputs": [],
   "source": [
    "import hvplot.pandas\n",
    "import param\n",
    "import panel as pn\n",
    "import pandas as pd\n",
    "\n",
    "from bokeh.sampledata.iris import flowers\n",
    "\n",
    "pn.extension(embed=True)"
   ]
  },
  {
   "cell_type": "markdown",
   "metadata": {},
   "source": [
    "`flowers` dataset which has been imported from bokeh has five columns, `sepal_length`, `sepal_width`, `petal_length`, `petal width` and `species`\n",
    "\n",
    "We will start by using this dataframe with these five features and then create an `Selector` object to develop menu options for different input features. Later we will define the core plotting function in the `plot` method and define the layout in the `panel` method of `IrisDashboard` class.\n",
    "\n",
    "The `plot` method can watch the `X_variable` and `Y_variable` using the `param.depends` decorator and setting `watch` option of this decorator to `True`. The `plot` method plots the features selected for `X_variable` and `Y_variable`  and colors them using the `species` column"
   ]
  },
  {
   "cell_type": "code",
   "execution_count": null,
   "metadata": {},
   "outputs": [],
   "source": [
    "class IrisDashboard(param.Parameterized):\n",
    "\n",
    "    # input features\n",
    "    inputs = ['sepal_length', 'sepal_width', 'petal_length', 'petal_width']\n",
    "    \n",
    "    # param objects \n",
    "    X_variable = param.Selector(inputs, default=inputs[0])\n",
    "    Y_variable = param.Selector(inputs, default=inputs[1])\n",
    "    \n",
    "    @param.depends('X_variable', 'Y_variable', watch=True)\n",
    "    def plot(self):\n",
    "        return flowers.hvplot.scatter(x=self.X_variable, y=self.Y_variable, by='species')\n",
    "    \n",
    "    def panel(self):\n",
    "        return pn.Row(self.param, self.plot)"
   ]
  },
  {
   "cell_type": "markdown",
   "metadata": {},
   "source": [
    "You can see the structure of this dataset if you show the first few rows:"
   ]
  },
  {
   "cell_type": "code",
   "execution_count": null,
   "metadata": {},
   "outputs": [],
   "source": [
    "dashboard = IrisDashboard(name='Iris_Dashboard')"
   ]
  },
  {
   "cell_type": "markdown",
   "metadata": {},
   "source": [
    "And now you can explore how each of the input columns relate to each other, either here in the notebook or when served as a separate dashboard using `panel serve --show Iris_dataset.ipynb`:"
   ]
  },
  {
   "cell_type": "code",
   "execution_count": null,
   "metadata": {},
   "outputs": [],
   "source": [
    "dashboard.panel().servable()"
   ]
  }
 ],
 "metadata": {
  "kernelspec": {
   "display_name": "Python 3",
   "language": "python",
   "name": "python3"
  },
  "language_info": {
   "codemirror_mode": {
    "name": "ipython",
    "version": 3
   },
   "file_extension": ".py",
   "mimetype": "text/x-python",
   "name": "python",
   "nbconvert_exporter": "python",
   "pygments_lexer": "ipython3",
   "version": "3.6.8"
  }
 },
 "nbformat": 4,
 "nbformat_minor": 2
}
