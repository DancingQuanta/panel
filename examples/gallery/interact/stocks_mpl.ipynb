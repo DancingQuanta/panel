{
 "cells": [
  {
   "cell_type": "code",
   "execution_count": null,
   "metadata": {},
   "outputs": [],
   "source": [
    "import panel as pn\n",
    "import pandas as pd\n",
    "import matplotlib.pyplot as plt\n",
    "\n",
    "from bokeh.sampledata import stocks\n",
    "\n",
    "pn.extension(embed=True)"
   ]
  },
  {
   "cell_type": "code",
   "execution_count": null,
   "metadata": {},
   "outputs": [],
   "source": [
    "tickers = ['AAPL', 'FB', 'GOOG', 'IBM', 'MSFT']\n",
    "\n",
    "def get_stock(ticker):\n",
    "    df = pd.DataFrame(getattr(stocks, ticker))\n",
    "    df['date'] = pd.to_datetime(df.date)\n",
    "    df.plot.line('date', 'close', figsize=(10, 6))\n",
    "    fig = plt.gcf()\n",
    "    plt.close()\n",
    "    return fig\n",
    "    \n",
    "interact = pn.interact(get_stock, ticker=tickers)\n",
    "pn.Row(\n",
    "    pn.Column(\n",
    "        '# Stock Explorer Matplotlib',\n",
    "        interact[0]\n",
    "    ),\n",
    "    interact[1]\n",
    ")"
   ]
  }
 ],
 "metadata": {
  "language_info": {
   "name": "python",
   "pygments_lexer": "ipython3"
  }
 },
 "nbformat": 4,
 "nbformat_minor": 2
}
