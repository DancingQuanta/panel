{
 "cells": [
  {
   "cell_type": "code",
   "execution_count": null,
   "metadata": {},
   "outputs": [],
   "source": [
    "import panel as pn\n",
    "import pandas as pd\n",
    "import hvplot.pandas\n",
    "\n",
    "from bokeh.sampledata import stocks\n",
    "\n",
    "pn.extension(embed=True)"
   ]
  },
  {
   "cell_type": "code",
   "execution_count": null,
   "metadata": {},
   "outputs": [],
   "source": [
    "tickers = ['AAPL', 'FB', 'GOOG', 'IBM', 'MSFT']\n",
    "\n",
    "def get_stock(ticker):\n",
    "    df = pd.DataFrame(getattr(stocks, ticker))\n",
    "    df['date'] = pd.to_datetime(df.date)\n",
    "    return df.hvplot.line('date', 'close')\n",
    "    \n",
    "interact = pn.interact(get_stock, ticker=tickers)\n",
    "pn.Row(\n",
    "    pn.Column(\n",
    "        '# Stock Explorer hvPlot',\n",
    "        interact[0]\n",
    "    ),\n",
    "    interact[1]\n",
    ")"
   ]
  }
 ],
 "metadata": {
  "language_info": {
   "name": "python",
   "pygments_lexer": "ipython3"
  }
 },
 "nbformat": 4,
 "nbformat_minor": 2
}
