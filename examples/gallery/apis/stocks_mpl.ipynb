{
 "cells": [
  {
   "cell_type": "code",
   "execution_count": null,
   "metadata": {},
   "outputs": [],
   "source": [
    "import panel as pn\n",
    "import pandas as pd\n",
    "import matplotlib.pyplot as plt\n",
    "\n",
    "from bokeh.sampledata import stocks\n",
    "\n",
    "pn.extension()"
   ]
  },
  {
   "cell_type": "markdown",
   "metadata": {},
   "source": [
    "This example is meant to make it easy to compare and contrast the different APIs Panel provides to declare apps and dashboards. Specifically it demonstrates how to use the ``interact`` function, the reactive programming model and explicit callbacks to achieve the same dynamic stock explorer app.\n",
    "\n",
    "First we will declare a shared function that return a dataframe containing dates and stock prices with a rolling mean applied, to avoid repeating ourselves later on:"
   ]
  },
  {
   "cell_type": "code",
   "execution_count": null,
   "metadata": {},
   "outputs": [],
   "source": [
    "def get_df(ticker, window):\n",
    "    df = pd.DataFrame(getattr(stocks, ticker))\n",
    "    df['date'] = pd.to_datetime(df.date)\n",
    "    return df.set_index('date').rolling(window=window).mean().reset_index()"
   ]
  },
  {
   "cell_type": "markdown",
   "metadata": {},
   "source": [
    "### Interact\n",
    "\n",
    "In the ``interact`` model the widgets are automatically generated from the arguments to the function or by providing additional hints to the ``interact`` call. This is an easy way to generate a simple app but it is not very explicit and to compose the different components in a custom way it is necessary to unpack the layout returned by the ``interact`` call:"
   ]
  },
  {
   "cell_type": "code",
   "execution_count": null,
   "metadata": {},
   "outputs": [],
   "source": [
    "tickers = ['AAPL', 'FB', 'GOOG', 'IBM', 'MSFT']\n",
    "\n",
    "def get_stock(ticker, window):\n",
    "    df = get_df(ticker, window)\n",
    "    df.plot.line('date', 'close', figsize=(10, 6))\n",
    "    fig = plt.gcf()\n",
    "    plt.close()\n",
    "    return fig\n",
    "\n",
    "interact = pn.interact(get_stock, ticker=tickers, window=(1, 21, 5))\n",
    "pn.Row(\n",
    "    pn.Column(\n",
    "        '## Stock Explorer Matplotlib',\n",
    "        interact[0]\n",
    "    ),\n",
    "    interact[1]\n",
    ")"
   ]
  },
  {
   "cell_type": "markdown",
   "metadata": {},
   "source": [
    "### Reactive\n",
    "\n",
    "The reactive programming model is very similar to the ``interact`` function but makes it possible to explicitly declare the inputs to the function using the ``depends`` decorator and makes the layout of the different components more explicit:"
   ]
  },
  {
   "cell_type": "code",
   "execution_count": null,
   "metadata": {},
   "outputs": [],
   "source": [
    "ticker = pn.widgets.Select(name='Ticker', options=['AAPL', 'FB', 'GOOG', 'IBM', 'MSFT'])\n",
    "window = pn.widgets.IntSlider(name='Window', value=6, start=1, end=21)\n",
    "\n",
    "@pn.depends(ticker.param.value, window.param.value)\n",
    "def get_stock(ticker, window):\n",
    "    df = get_df(ticker, window)\n",
    "    df.plot.line('date', 'close', figsize=(10, 6))\n",
    "    fig = plt.gcf()\n",
    "    plt.close()\n",
    "    return fig\n",
    "\n",
    "pn.Row(\n",
    "    pn.Column(\n",
    "        '## Stock Explorer Matplotlib',\n",
    "        ticker,\n",
    "        window\n",
    "    ),\n",
    "    get_stock\n",
    ")"
   ]
  },
  {
   "cell_type": "markdown",
   "metadata": {},
   "source": [
    "### Callbacks\n",
    "\n",
    "Declaring an app through explicit callbacks can often afford the most control about precisely how the different components of the app are updated, however it quickly grows in complexity the more callbacks there are and therefore can easily become unmaintainable. The approach works by defining callbacks using the ``.param.watch`` API which either update or replace the already rendered components."
   ]
  },
  {
   "cell_type": "code",
   "execution_count": null,
   "metadata": {},
   "outputs": [],
   "source": [
    "ticker = pn.widgets.Select(name='Ticker', options=['AAPL', 'FB', 'GOOG', 'IBM', 'MSFT'])\n",
    "window = pn.widgets.IntSlider(name='Window', value=6, start=1, end=21)\n",
    "\n",
    "def get_stock(ticker, window):\n",
    "    df = get_df(ticker, window)\n",
    "    df.plot.line('date', 'close', figsize=(10, 6))\n",
    "    fig = plt.gcf()\n",
    "    plt.close()\n",
    "    return fig\n",
    "\n",
    "row = pn.Row(\n",
    "    pn.Column(\n",
    "        '## Stock Explorer Matplotlib',\n",
    "        ticker,\n",
    "        window\n",
    "    ),\n",
    "    get_stock(ticker.options[0], window.value)\n",
    ")\n",
    "\n",
    "def update(event):\n",
    "    row[1].object = get_stock(ticker.value, window.value)\n",
    "    # To replace component use:\n",
    "    # row[1] = get_stock(ticker.value, window.value)\n",
    "    \n",
    "ticker.param.watch(update, 'value')\n",
    "window.param.watch(update, 'value')\n",
    "\n",
    "row.servable()"
   ]
  }
 ],
 "metadata": {
  "language_info": {
   "name": "python",
   "pygments_lexer": "ipython3"
  }
 },
 "nbformat": 4,
 "nbformat_minor": 2
}
