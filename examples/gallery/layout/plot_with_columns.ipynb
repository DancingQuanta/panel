{
 "cells": [
  {
   "cell_type": "code",
   "execution_count": null,
   "metadata": {},
   "outputs": [],
   "source": [
    "import panel as pn\n",
    "import hvplot.pandas\n",
    "\n",
    "from bokeh.sampledata.autompg import autompg_clean\n",
    "\n",
    "pn.extension()"
   ]
  },
  {
   "cell_type": "code",
   "execution_count": null,
   "metadata": {},
   "outputs": [],
   "source": [
    "def plot(x='cyl', y='mpg', color=None, facet=None):\n",
    "    return autompg_clean.hvplot.scatter(\n",
    "        x, y, color=color, by=facet, subplots=True, padding=0.1, width=None, height=None).opts(\n",
    "        'Scatter', min_height=300, responsive=True, min_width=200)\n",
    "\n",
    "quant = [None, 'mpg', 'cyl', 'displ', 'hp', 'weight', 'yr']\n",
    "cat = [None, 'origin', 'mfr', 'yr']\n",
    "combined = quant+cat[1:]\n",
    "\n",
    "interact = pn.interact(plot, x=combined, y=combined,\n",
    "                       color=combined, facet=cat)\n",
    "\n",
    "pn.Column(\n",
    "    '### Auto MPG Explorer',\n",
    "    interact[1],\n",
    "    pn.Row(\n",
    "        pn.WidgetBox(*interact[0][:3]),\n",
    "        pn.WidgetBox(*interact[0][3:])\n",
    "    ),\n",
    "    width_policy='max'\n",
    ")"
   ]
  }
 ],
 "metadata": {
  "language_info": {
   "name": "python",
   "pygments_lexer": "ipython3"
  }
 },
 "nbformat": 4,
 "nbformat_minor": 2
}
