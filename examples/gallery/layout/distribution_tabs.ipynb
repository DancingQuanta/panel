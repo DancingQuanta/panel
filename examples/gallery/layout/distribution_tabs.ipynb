{
 "cells": [
  {
   "cell_type": "code",
   "execution_count": null,
   "metadata": {},
   "outputs": [],
   "source": [
    "import panel as pn\n",
    "import numpy as np\n",
    "import pandas as pd\n",
    "import holoviews as hv\n",
    "\n",
    "pn.extension()"
   ]
  },
  {
   "cell_type": "code",
   "execution_count": null,
   "metadata": {},
   "outputs": [],
   "source": [
    "distributions = {\n",
    "    'normal': np.random.normal,\n",
    "    'uniform': np.random.uniform,\n",
    "    'log-normal': np.random.lognormal,\n",
    "    'exponential': np.random.exponential\n",
    "}\n",
    "\n",
    "checkboxes = pn.widgets.ToggleGroup(options=distributions, behavior='radio')\n",
    "slider = pn.widgets.IntSlider(name='Number of observations', value=500, start=0, end=2000)\n",
    "tabs = pn.Tabs()\n",
    "\n",
    "def cb(distribution, n):\n",
    "    values = hv.Dataset(distribution(size=n), 'values')\n",
    "    tabs[:] = [\n",
    "        ('Plot', values.hist(adjoin=False).opts(\n",
    "            responsive=True, max_height=500, padding=0.1)),\n",
    "        ('Summary', values.dframe().describe().T),\n",
    "        ('Table', hv.Table(values)),\n",
    "    ]\n",
    "\n",
    "cb(checkboxes.value, slider.value)\n",
    "layout = pn.interact(cb, distribution=checkboxes, n=slider)\n",
    "\n",
    "pn.Row(\n",
    "    pn.Column(\n",
    "        '### Distribution Type',\n",
    "        layout[0]\n",
    "    ),\n",
    "    tabs\n",
    ")"
   ]
  }
 ],
 "metadata": {
  "language_info": {
   "name": "python",
   "pygments_lexer": "ipython3"
  }
 },
 "nbformat": 4,
 "nbformat_minor": 2
}
